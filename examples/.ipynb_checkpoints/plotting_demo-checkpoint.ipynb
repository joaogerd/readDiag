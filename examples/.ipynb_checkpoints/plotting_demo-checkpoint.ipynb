{
 "cells": [
  {
   "cell_type": "markdown",
   "id": "98a8c0a0",
   "metadata": {},
   "source": [
    "# 📊 Diagnóstico Visual com `diagPlotter`\n",
    "Este notebook mostra como utilizar o pacote `readDiag` para visualizar arquivos diagnósticos do GSI, tanto para dados convencionais quanto de radiância."
   ]
  },
  {
   "cell_type": "code",
   "execution_count": null,
   "id": "16183de2",
   "metadata": {},
   "outputs": [],
   "source": [
    "from readDiag import diagAccess, diagPlotter\n",
    "from pathlib import Path\n"
   ]
  },
  {
   "cell_type": "markdown",
   "id": "64848363",
   "metadata": {},
   "source": [
    "## 🔍 Definição de arquivos de teste"
   ]
  },
  {
   "cell_type": "code",
   "execution_count": null,
   "id": "20eec8d6",
   "metadata": {},
   "outputs": [],
   "source": [
    "conv_file = Path(\"data/diag_conv_01.2020010100\")\n",
    "rad_file = Path(\"data/diag_amsua_n15_01.2020010100\")\n"
   ]
  },
  {
   "cell_type": "markdown",
   "id": "6fbf17af",
   "metadata": {},
   "source": [
    "## 📘 Dados Convencionais: Histogramas e Boxplots"
   ]
  },
  {
   "cell_type": "code",
   "execution_count": null,
   "id": "6052919f",
   "metadata": {},
   "outputs": [],
   "source": [
    "da_conv = diagAccess(conv_file)\n",
    "dp_conv = diagPlotter(da_conv)\n",
    "\n",
    "# Variável e canal\n",
    "df_dict = da_conv.get_data_frame()\n",
    "var = next(iter(df_dict.keys()))\n",
    "chan = next(iter(df_dict[var].keys()))\n",
    "\n",
    "dp_conv.plot_hist_conv(var, chan, col=\"omf\")\n",
    "dp_conv.plot_boxplot_channels_conv(var, col=\"omf\")\n"
   ]
  },
  {
   "cell_type": "markdown",
   "id": "69ca855b",
   "metadata": {},
   "source": [
    "## 📗 Dados de Radiância: Estatísticas e Distribuições"
   ]
  },
  {
   "cell_type": "code",
   "execution_count": null,
   "id": "1649249d",
   "metadata": {},
   "outputs": [],
   "source": [
    "da_rad = diagAccess(rad_file)\n",
    "dp_rad = diagPlotter(da_rad)\n",
    "\n",
    "# Estatísticas por canal\n",
    "dp_rad.plot_channel_stats_rad(metric=\"omf\", agg=\"mean\")\n",
    "\n",
    "# Distribuição O-F para canal 0 e 5\n",
    "dp_rad.plot_omf_distribution_rad(chan_idx=0, corrected=False)\n",
    "dp_rad.plot_omf_distribution_rad(chan_idx=5, corrected=True)\n"
   ]
  }
 ],
 "metadata": {},
 "nbformat": 4,
 "nbformat_minor": 5
}